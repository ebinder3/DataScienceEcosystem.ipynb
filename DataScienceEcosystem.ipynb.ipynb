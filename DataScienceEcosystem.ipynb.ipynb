{
    "cells": [
        {
            "metadata": {
                "collapsed": true
            },
            "cell_type": "markdown",
            "source": "# Data Science Tools and Ecosystem"
        },
        {
            "metadata": {},
            "cell_type": "markdown",
            "source": "## Author\nEmma Binder"
        },
        {
            "metadata": {},
            "cell_type": "markdown",
            "source": "In this notebook, Data Science Tools and Ecosystem are sumarized."
        },
        {
            "metadata": {},
            "cell_type": "markdown",
            "source": "**Objectives:**\n<ul>\n    <li>Popular languages</li>\n    <li>Common libraries</li>\n    <li>Data Sicence Tools</li>\n    <li>Using Python and Jpyter Notebooks</li>\n</ul>"
        },
        {
            "metadata": {},
            "cell_type": "markdown",
            "source": "Some of the popular languages that Data Scientists use are: \n</br>\n<ol type=\"1\">\n  <li>Python</li>\n  <li>R</li>\n  <li>SQL</li>\n  <li>SAS</li>\n  <li>Stata</li>\n</ol>"
        },
        {
            "metadata": {},
            "cell_type": "markdown",
            "source": "Some of the commonly used libraries used by Data Scientists include:\n</br>\n<ol type=\"1\">\n    <li>Pandas</li>\n    <li>NumPy</li>\n    <li>Matplotlib</li>\n    <li>Seaborn</li>\n    <li>Scikit-learn</li>\n    <li>Keras</li>\n    <li>TensorFlow</li>\n    <li>PyTorch</li>\n    "
        },
        {
            "metadata": {},
            "cell_type": "markdown",
            "source": "<table>\n    <th><strong>Data Science Tools</strong></th>\n    <tr>\n        <td>Jupyter Notebook</td>\n    </tr>\n    <tr>\n    <td>Apache Spark</td>\n    </tr>\n    <tr>\n        <td>Knime</td>\n    </tr>\n    </table>"
        },
        {
            "metadata": {},
            "cell_type": "markdown",
            "source": "### Below are a few examples of evaluating arithmetic expressions in Python."
        },
        {
            "metadata": {},
            "cell_type": "markdown",
            "source": "This is a simple arithematic expression to multiply then add integers."
        },
        {
            "metadata": {
                "scrolled": true
            },
            "cell_type": "code",
            "source": "(3*4)+5",
            "execution_count": 1,
            "outputs": [
                {
                    "output_type": "execute_result",
                    "execution_count": 1,
                    "data": {
                        "text/plain": "17"
                    },
                    "metadata": {}
                }
            ]
        },
        {
            "metadata": {},
            "cell_type": "markdown",
            "source": "This will convert 200 minutes to hours by dividing by 60."
        },
        {
            "metadata": {
                "scrolled": false
            },
            "cell_type": "code",
            "source": "200/60",
            "execution_count": 3,
            "outputs": [
                {
                    "output_type": "execute_result",
                    "execution_count": 3,
                    "data": {
                        "text/plain": "3.3333333333333335"
                    },
                    "metadata": {}
                }
            ]
        }
    ],
    "metadata": {
        "kernelspec": {
            "name": "python3",
            "display_name": "Python 3.10",
            "language": "python"
        },
        "language_info": {
            "name": "python",
            "version": "3.10.9",
            "mimetype": "text/x-python",
            "codemirror_mode": {
                "name": "ipython",
                "version": 3
            },
            "pygments_lexer": "ipython3",
            "nbconvert_exporter": "python",
            "file_extension": ".py"
        }
    },
    "nbformat": 4,
    "nbformat_minor": 1
}